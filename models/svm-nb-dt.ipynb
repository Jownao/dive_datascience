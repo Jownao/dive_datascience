{
 "cells": [
  {
   "cell_type": "code",
   "execution_count": null,
   "metadata": {},
   "outputs": [],
   "source": [
    "from google.colab import drive\n",
    "drive.mount('/content/drive')"
   ]
  },
  {
   "cell_type": "code",
   "execution_count": null,
   "metadata": {},
   "outputs": [],
   "source": [
    "import pandas as pd\n",
    "diretorio = ('/content/drive/MyDrive/dataset_tcc/')\n",
    "df_final_dataset = pd.read_excel(diretorio+\"teste803.xlsx\")"
   ]
  },
  {
   "cell_type": "code",
   "execution_count": null,
   "metadata": {},
   "outputs": [],
   "source": [
    "from sklearn.feature_extraction.text import TfidfVectorizer"
   ]
  },
  {
   "cell_type": "code",
   "execution_count": null,
   "metadata": {},
   "outputs": [],
   "source": [
    "# Cria as listas para armazenar os textos e rótulos\n",
    "dados = []\n",
    "rotulos = []\n",
    "\n",
    "# Loop pelas instâncias do conjunto de dados\n",
    "for index, row in df_final_dataset.iterrows():\n",
    "    # Adiciona o texto e rótulo das instâncias às listas correspondentes\n",
    "    dados.append(row['clean_text'])\n",
    "    rotulos.append(row['sentiment'])"
   ]
  },
  {
   "attachments": {},
   "cell_type": "markdown",
   "metadata": {},
   "source": [
    "O tratamento descrito é chamado de \"vetorização com TfidfVectorizer\" e é usado para preparar dados textuais para serem utilizados em modelos de aprendizado de máquina.\n",
    "\n",
    "Nesse processo, cada documento de texto é transformado em um vetor numérico, onde cada posição do vetor representa uma palavra ou termo presente no texto. A contagem de cada termo é ponderada pelo seu inverso na frequência de documentos (TF-IDF), que ajuda a destacar palavras importantes e reduzir o peso de palavras comuns.\n",
    "\n",
    "Esse tratamento é útil para tornar o texto mais \"compreensível\" para os modelos de aprendizado de máquina, que geralmente lidam melhor com dados numéricos. Além disso, o uso do TF-IDF ajuda a filtrar palavras irrelevantes ou pouco informativas, melhorando a precisão dos modelos.}"
   ]
  },
  {
   "cell_type": "code",
   "execution_count": null,
   "metadata": {},
   "outputs": [],
   "source": [
    "vetorizado = TfidfVectorizer(use_idf=True)\n",
    "X = vetorizado.fit_transform(dados)\n",
    "Y = rotulos"
   ]
  },
  {
   "cell_type": "code",
   "execution_count": null,
   "metadata": {},
   "outputs": [],
   "source": [
    "X_train, X_test, y_train, y_test = train_test_split(X, \n",
    "                                                    Y, \n",
    "                                                    random_state=42,\n",
    "                                                    test_size=0.2\n",
    "                                                   )"
   ]
  },
  {
   "attachments": {},
   "cell_type": "markdown",
   "metadata": {},
   "source": [
    "* SVM - Support Vector Machine "
   ]
  },
  {
   "cell_type": "code",
   "execution_count": null,
   "metadata": {},
   "outputs": [],
   "source": [
    "from sklearn.svm import SVC\n",
    "from sklearn.model_selection import cross_validate\n",
    "from tabulate import tabulate"
   ]
  },
  {
   "cell_type": "code",
   "execution_count": null,
   "metadata": {},
   "outputs": [],
   "source": [
    "# Definir valores de C para testar\n",
    "valores_c = [1,2,3,4,5,6,7]\n",
    "\n",
    "# Criar lista para armazenar os resultados\n",
    "all_svm_results = []\n",
    "\n",
    "# Loop para testar diferentes valores de C\n",
    "for c in valores_c:\n",
    "    # Criar o modelo SVM\n",
    "    svm = SVC(kernel='linear', C=c)\n",
    "    \n",
    "    # Aplicar validação cruzada com k=5 e métricas f1_macro e acurácia\n",
    "    scoring = ['f1_macro', 'accuracy']\n",
    "    cv_results = cross_validate(svm, X, Y, cv=5, scoring=scoring)\n",
    "    \n",
    "    # Calcular média dos resultados para f1 e acurácia\n",
    "    f1_mean = cv_results['test_f1_macro'].mean()\n",
    "    accuracy_mean = cv_results['test_accuracy'].mean()\n",
    "\n",
    "    # Adicionar resultados à lista\n",
    "    all_svm_results.append([c, f1_mean, accuracy_mean])\n",
    "\n",
    "# Exibir resultados em formato de tabela\n",
    "headers = ['C', 'F1-score médio', 'Acurácia média']\n",
    "print(tabulate(all_svm_results, headers=headers))\n"
   ]
  }
 ],
 "metadata": {
  "language_info": {
   "name": "python"
  },
  "orig_nbformat": 4
 },
 "nbformat": 4,
 "nbformat_minor": 2
}
