{
 "cells": [
  {
   "cell_type": "markdown",
   "metadata": {},
   "source": [
    "## Atividade: Bolsa Família\n"
   ]
  },
  {
   "cell_type": "markdown",
   "metadata": {},
   "source": [
    "### Disponível também no repositório https://github.com/Jownao/dive_datascience\n",
    "\n",
    "Os atributos da base está disponível em [Atributos]()\n",
    "\n"
   ]
  },
  {
   "cell_type": "markdown",
   "metadata": {},
   "source": []
  },
  {
   "cell_type": "code",
   "execution_count": null,
   "metadata": {},
   "outputs": [],
   "source": [
    "# Importação de pacotes necessários para este laboratório\n",
    "\n",
    "import seaborn as sns #Visualização\n",
    "import matplotlib.pyplot as plt #Visualização\n",
    "import pandas as pd #Biblioteca Pandas para os dados\n",
    "import numpy as np #Biblioteca para trabalhar com números"
   ]
  }
 ],
 "metadata": {
  "kernelspec": {
   "display_name": "Python 3.10.6 64-bit",
   "language": "python",
   "name": "python3"
  },
  "language_info": {
   "name": "python",
   "version": "3.10.6"
  },
  "orig_nbformat": 4,
  "vscode": {
   "interpreter": {
    "hash": "7c0608a6a6edacad6d6dfd0413e0e3423375b02eab4951b8fddf17123462ae71"
   }
  }
 },
 "nbformat": 4,
 "nbformat_minor": 2
}
